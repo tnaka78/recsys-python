{
  "nbformat": 4,
  "nbformat_minor": 0,
  "metadata": {
    "colab": {
      "name": "recsys-python-chap02.ipynb",
      "provenance": [],
      "authorship_tag": "ABX9TyNyLWw7ZXJP9DJTazFlFvox",
      "include_colab_link": true
    },
    "kernelspec": {
      "name": "python3",
      "display_name": "Python 3"
    },
    "language_info": {
      "name": "python"
    }
  },
  "cells": [
    {
      "cell_type": "markdown",
      "metadata": {
        "id": "view-in-github",
        "colab_type": "text"
      },
      "source": [
        "<a href=\"https://colab.research.google.com/github/tnaka78/recsys-python/blob/main/recsys_python_chap02.ipynb\" target=\"_parent\"><img src=\"https://colab.research.google.com/assets/colab-badge.svg\" alt=\"Open In Colab\"/></a>"
      ]
    },
    {
      "cell_type": "markdown",
      "source": [
        "# recsys-python 第2章 評価値行列\n",
        "https://recsyslab.github.io/recsys-python/ja/chap02.html"
      ],
      "metadata": {
        "id": "aDSaj7K7yMjx"
      }
    },
    {
      "cell_type": "code",
      "execution_count": 1,
      "metadata": {
        "id": "ZNsZ4CeGyJBE"
      },
      "outputs": [],
      "source": [
        "import pprint\n",
        "import numpy as np\n",
        "np.set_printoptions(precision=3)"
      ]
    },
    {
      "cell_type": "markdown",
      "source": [
        "## 評価値行列"
      ],
      "metadata": {
        "id": "n-r9K_72yXBC"
      }
    },
    {
      "cell_type": "code",
      "source": [
        "R = np.array(\n",
        "  [[np.nan,  4.,  3.,  1.,  2., np.nan],\n",
        "   [ 5.,  5.,  4., np.nan,  3.,  3.],\n",
        "   [ 4., np.nan,  5.,  3.,  2., np.nan],\n",
        "   [np.nan,  3., np.nan,  2.,  1.,  1.],\n",
        "   [ 2.,  1.,  2.,  4., np.nan,  3.]]\n",
        ")\n",
        "print('R = \\n{}'.format(R))"
      ],
      "metadata": {
        "colab": {
          "base_uri": "https://localhost:8080/"
        },
        "id": "mfwfyq6ryVpc",
        "outputId": "13da41e7-c55a-4e1b-e582-12280644760a"
      },
      "execution_count": 3,
      "outputs": [
        {
          "output_type": "stream",
          "name": "stdout",
          "text": [
            "R = \n",
            "[[nan  4.  3.  1.  2. nan]\n",
            " [ 5.  5.  4. nan  3.  3.]\n",
            " [ 4. nan  5.  3.  2. nan]\n",
            " [nan  3. nan  2.  1.  1.]\n",
            " [ 2.  1.  2.  4. nan  3.]]\n"
          ]
        }
      ]
    },
    {
      "cell_type": "code",
      "source": [
        "U = np.arange(R.shape[0])\n",
        "print('U = {}'.format(U))"
      ],
      "metadata": {
        "colab": {
          "base_uri": "https://localhost:8080/"
        },
        "id": "LCh4lGovy2zU",
        "outputId": "727f4618-9b9c-455b-a950-fb2990a2c7b7"
      },
      "execution_count": 4,
      "outputs": [
        {
          "output_type": "stream",
          "name": "stdout",
          "text": [
            "U = [0 1 2 3 4]\n"
          ]
        }
      ]
    },
    {
      "cell_type": "code",
      "source": [
        "I = np.arange(R.shape[1])\n",
        "print('I = {}'.format(I))"
      ],
      "metadata": {
        "colab": {
          "base_uri": "https://localhost:8080/"
        },
        "id": "ArCi_37gzCvO",
        "outputId": "c03beddd-1e57-46a9-f0ad-4db4e1a52b74"
      },
      "execution_count": 5,
      "outputs": [
        {
          "output_type": "stream",
          "name": "stdout",
          "text": [
            "I = [0 1 2 3 4 5]\n"
          ]
        }
      ]
    },
    {
      "cell_type": "code",
      "source": [
        "print('|U| = {}'.format(U.size))"
      ],
      "metadata": {
        "colab": {
          "base_uri": "https://localhost:8080/"
        },
        "id": "eiYxcuxCzJWB",
        "outputId": "0be8a5b8-eb55-4ed9-dc7e-8a2b54b0b067"
      },
      "execution_count": 6,
      "outputs": [
        {
          "output_type": "stream",
          "name": "stdout",
          "text": [
            "|U| = 5\n"
          ]
        }
      ]
    },
    {
      "cell_type": "code",
      "source": [
        "print('|I| = {}'.format(I.size))"
      ],
      "metadata": {
        "colab": {
          "base_uri": "https://localhost:8080/"
        },
        "id": "clpj-Re1zRf0",
        "outputId": "03743710-3e8a-445a-f527-acbdab71775d"
      },
      "execution_count": 7,
      "outputs": [
        {
          "output_type": "stream",
          "name": "stdout",
          "text": [
            "|I| = 6\n"
          ]
        }
      ]
    },
    {
      "cell_type": "code",
      "source": [
        "u = 0\n",
        "i = 1\n",
        "print('r{}{} = {}'.format(u, i, R[u, i]))"
      ],
      "metadata": {
        "colab": {
          "base_uri": "https://localhost:8080/"
        },
        "id": "7SWb7yOezWJM",
        "outputId": "5e5fa62f-f492-4bcf-9ce3-d8e5aba6f596"
      },
      "execution_count": 8,
      "outputs": [
        {
          "output_type": "stream",
          "name": "stdout",
          "text": [
            "r01 = 4.0\n"
          ]
        }
      ]
    },
    {
      "cell_type": "markdown",
      "source": [
        "## 評価値行列の疎性"
      ],
      "metadata": {
        "id": "ZaBNFOoazjhW"
      }
    },
    {
      "cell_type": "code",
      "source": [
        "print('Rの全要素数 = {}'.format(R.size))"
      ],
      "metadata": {
        "colab": {
          "base_uri": "https://localhost:8080/"
        },
        "id": "8ydil7sIzelC",
        "outputId": "2b92c8a0-4b16-4b36-e5ee-df8556228528"
      },
      "execution_count": 9,
      "outputs": [
        {
          "output_type": "stream",
          "name": "stdout",
          "text": [
            "Rの全要素数 = 30\n"
          ]
        }
      ]
    },
    {
      "cell_type": "code",
      "source": [
        "print('観測値 = \\n{}'.format(~np.isnan(R)))"
      ],
      "metadata": {
        "colab": {
          "base_uri": "https://localhost:8080/"
        },
        "id": "7q_Yh0U3zrfl",
        "outputId": "cdbb7602-3743-4c62-9f86-3fa2dc75a50f"
      },
      "execution_count": 11,
      "outputs": [
        {
          "output_type": "stream",
          "name": "stdout",
          "text": [
            "観測値 = \n",
            "[[False  True  True  True  True False]\n",
            " [ True  True  True False  True  True]\n",
            " [ True False  True  True  True False]\n",
            " [False  True False  True  True  True]\n",
            " [ True  True  True  True False  True]]\n"
          ]
        }
      ]
    },
    {
      "cell_type": "code",
      "source": [
        "print('|R| = {}'.format(np.count_nonzero(~np.isnan(R))))\n",
        "print('|R| = {}'.format(R[~np.isnan(R)].size))  # 別解1\n",
        "print('|R| = {}'.format(np.sum(~np.isnan(R))))  # 別解2"
      ],
      "metadata": {
        "colab": {
          "base_uri": "https://localhost:8080/"
        },
        "id": "5k7kGngfzxkZ",
        "outputId": "542e599b-94ed-4749-e3fb-ea3e42927426"
      },
      "execution_count": 17,
      "outputs": [
        {
          "output_type": "stream",
          "name": "stdout",
          "text": [
            "|R| = 22\n",
            "|R| = 22\n",
            "|R| = 22\n"
          ]
        }
      ]
    },
    {
      "cell_type": "code",
      "source": [
        "sparsity = 1.0 - np.count_nonzero(~np.isnan(R)) / R.size\n",
        "print('sparsity = {:.3f}'.format(sparsity))"
      ],
      "metadata": {
        "colab": {
          "base_uri": "https://localhost:8080/"
        },
        "id": "YP3hZhDs0amw",
        "outputId": "94c29356-ef7e-4244-90a9-54287f56566c"
      },
      "execution_count": 19,
      "outputs": [
        {
          "output_type": "stream",
          "name": "stdout",
          "text": [
            "sparsity = 0.267\n"
          ]
        }
      ]
    },
    {
      "cell_type": "markdown",
      "source": [
        "## 評価済みアイテム集合"
      ],
      "metadata": {
        "id": "p5m5OG361pYy"
      }
    },
    {
      "cell_type": "code",
      "source": [
        "u = 0\n",
        "print('I{} = {}'.format(u, I[~np.isnan(R[u])]))"
      ],
      "metadata": {
        "colab": {
          "base_uri": "https://localhost:8080/"
        },
        "id": "g0_u78XK03m-",
        "outputId": "b9aa456f-a475-4254-9a92-2d53d398e9e4"
      },
      "execution_count": 21,
      "outputs": [
        {
          "output_type": "stream",
          "name": "stdout",
          "text": [
            "I0 = [1 2 3 4]\n"
          ]
        }
      ]
    },
    {
      "cell_type": "code",
      "source": [
        "Iu = [I[~np.isnan(R[u])] for u in U]\n",
        "print('Iu = ')\n",
        "pprint.pprint(Iu)"
      ],
      "metadata": {
        "colab": {
          "base_uri": "https://localhost:8080/"
        },
        "id": "jvaK5h8L2ESB",
        "outputId": "2c53d7b8-bb56-4fac-d4ab-1d8ca8afb18c"
      },
      "execution_count": 22,
      "outputs": [
        {
          "output_type": "stream",
          "name": "stdout",
          "text": [
            "Iu = \n",
            "[array([1, 2, 3, 4]),\n",
            " array([0, 1, 2, 4, 5]),\n",
            " array([0, 2, 3, 4]),\n",
            " array([1, 3, 4, 5]),\n",
            " array([0, 1, 2, 3, 5])]\n"
          ]
        }
      ]
    },
    {
      "cell_type": "code",
      "source": [
        "u = 0\n",
        "v = 1\n",
        "Iuv = np.intersect1d(Iu[u], Iu[v])\n",
        "print('I{}{} = {}'.format(u, v, Iuv))"
      ],
      "metadata": {
        "colab": {
          "base_uri": "https://localhost:8080/"
        },
        "id": "iAfd14w62u9W",
        "outputId": "d41919ee-d759-4b31-c986-070c97455f64"
      },
      "execution_count": 23,
      "outputs": [
        {
          "output_type": "stream",
          "name": "stdout",
          "text": [
            "I01 = [1 2 4]\n"
          ]
        }
      ]
    },
    {
      "cell_type": "code",
      "source": [
        "i = 0\n",
        "print('U{} = {}'.format(i, U[~np.isnan(R[:, i])]))"
      ],
      "metadata": {
        "colab": {
          "base_uri": "https://localhost:8080/"
        },
        "id": "RgEjP4bn3HgK",
        "outputId": "9f5b9483-4e26-48d9-b1bb-b5110cbda7f3"
      },
      "execution_count": 24,
      "outputs": [
        {
          "output_type": "stream",
          "name": "stdout",
          "text": [
            "U0 = [1 2 4]\n"
          ]
        }
      ]
    },
    {
      "cell_type": "code",
      "source": [
        "Ui = [U[~np.isnan(R[:, i])] for i in I]\n",
        "print('Ui = ')\n",
        "pprint.pprint(Ui)"
      ],
      "metadata": {
        "colab": {
          "base_uri": "https://localhost:8080/"
        },
        "id": "R25I-x383lh3",
        "outputId": "640f7d68-6974-455c-a2c3-d6a7051209b5"
      },
      "execution_count": 25,
      "outputs": [
        {
          "output_type": "stream",
          "name": "stdout",
          "text": [
            "Ui = \n",
            "[array([1, 2, 4]),\n",
            " array([0, 1, 3, 4]),\n",
            " array([0, 1, 2, 4]),\n",
            " array([0, 2, 3, 4]),\n",
            " array([0, 1, 2, 3]),\n",
            " array([1, 3, 4])]\n"
          ]
        }
      ]
    },
    {
      "cell_type": "code",
      "source": [
        "i = 0\n",
        "j = 4\n",
        "Uij = np.intersect1d(Ui[i], Ui[j])\n",
        "print('U{}{} = {}'.format(i, j, Uij))"
      ],
      "metadata": {
        "colab": {
          "base_uri": "https://localhost:8080/"
        },
        "id": "DlucMMRp4F44",
        "outputId": "c2b2099d-bec1-4e90-bc51-4c58c4e80386"
      },
      "execution_count": 26,
      "outputs": [
        {
          "output_type": "stream",
          "name": "stdout",
          "text": [
            "U04 = [1 2]\n"
          ]
        }
      ]
    },
    {
      "cell_type": "markdown",
      "source": [
        "## 平均中心化評価値行列"
      ],
      "metadata": {
        "id": "FtmuW3Xt4iLl"
      }
    },
    {
      "cell_type": "code",
      "source": [
        "print('R全体の平均評価値 = {:.3f}'.format(np.nanmean(R)))"
      ],
      "metadata": {
        "colab": {
          "base_uri": "https://localhost:8080/"
        },
        "id": "T1pVR5_t4Ru3",
        "outputId": "2b431ee8-b924-47e4-9a1f-a49e46b2a16e"
      },
      "execution_count": 27,
      "outputs": [
        {
          "output_type": "stream",
          "name": "stdout",
          "text": [
            "R全体の平均評価値 = 2.864\n"
          ]
        }
      ]
    },
    {
      "cell_type": "code",
      "source": [
        "ri_mean = np.nanmean(R, axis=0)\n",
        "print('ri_mean = {}'.format(ri_mean))"
      ],
      "metadata": {
        "colab": {
          "base_uri": "https://localhost:8080/"
        },
        "id": "rWMGpoWx4zkx",
        "outputId": "4a1fc2bb-20d8-4cf9-9acc-65c392887886"
      },
      "execution_count": 28,
      "outputs": [
        {
          "output_type": "stream",
          "name": "stdout",
          "text": [
            "ri_mean = [3.667 3.25  3.5   2.5   2.    2.333]\n"
          ]
        }
      ]
    },
    {
      "cell_type": "code",
      "source": [
        "ru_mean = np.nanmean(R, axis=1)\n",
        "print('ru_mean = {}'.format(ru_mean))\n",
        "# 別解\n",
        "ru_mean = np.array([np.sum(R[u, Iu[u]]) / Iu[u].size for u in U])\n",
        "print('ru_mean = {}'.format(ru_mean))"
      ],
      "metadata": {
        "colab": {
          "base_uri": "https://localhost:8080/"
        },
        "id": "bzRTnWV15Jku",
        "outputId": "4435f6f1-9de6-4cfc-9693-6468b158476e"
      },
      "execution_count": 40,
      "outputs": [
        {
          "output_type": "stream",
          "name": "stdout",
          "text": [
            "ru_mean = [2.5  4.   3.5  1.75 2.4 ]\n",
            "ru_mean = [2.5  4.   3.5  1.75 2.4 ]\n"
          ]
        }
      ]
    },
    {
      "cell_type": "code",
      "source": [
        "print('ru_mean = \\n{}'.format(ru_mean.reshape((U.size, 1))))"
      ],
      "metadata": {
        "colab": {
          "base_uri": "https://localhost:8080/"
        },
        "id": "dPBTUW5L5SeE",
        "outputId": "e48939c3-6ff4-4082-a898-a4a026cf2fca"
      },
      "execution_count": 41,
      "outputs": [
        {
          "output_type": "stream",
          "name": "stdout",
          "text": [
            "ru_mean = \n",
            "[[2.5 ]\n",
            " [4.  ]\n",
            " [3.5 ]\n",
            " [1.75]\n",
            " [2.4 ]]\n"
          ]
        }
      ]
    },
    {
      "cell_type": "code",
      "source": [
        "R2 = R - ru_mean.reshape((U.size, 1))\n",
        "print('R\\' = \\n{}'.format(R2))"
      ],
      "metadata": {
        "colab": {
          "base_uri": "https://localhost:8080/"
        },
        "id": "BFR9jrzF53lH",
        "outputId": "300673a4-f27c-4659-e042-160c7c8dfaa2"
      },
      "execution_count": 43,
      "outputs": [
        {
          "output_type": "stream",
          "name": "stdout",
          "text": [
            "R' = \n",
            "[[  nan  1.5   0.5  -1.5  -0.5    nan]\n",
            " [ 1.    1.    0.     nan -1.   -1.  ]\n",
            " [ 0.5    nan  1.5  -0.5  -1.5    nan]\n",
            " [  nan  1.25   nan  0.25 -0.75 -0.75]\n",
            " [-0.4  -1.4  -0.4   1.6    nan  0.6 ]]\n"
          ]
        }
      ]
    }
  ]
}