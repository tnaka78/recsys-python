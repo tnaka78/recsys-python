{
  "nbformat": 4,
  "nbformat_minor": 0,
  "metadata": {
    "colab": {
      "name": "recsys-python-chap01.ipynb",
      "provenance": [],
      "authorship_tag": "ABX9TyNvmzqUz+MulaTXhRqfi5Ud",
      "include_colab_link": true
    },
    "kernelspec": {
      "name": "python3",
      "display_name": "Python 3"
    },
    "language_info": {
      "name": "python"
    }
  },
  "cells": [
    {
      "cell_type": "markdown",
      "metadata": {
        "id": "view-in-github",
        "colab_type": "text"
      },
      "source": [
        "<a href=\"https://colab.research.google.com/github/tnaka78/recsys-python/blob/main/recsys_python_chap01.ipynb\" target=\"_parent\"><img src=\"https://colab.research.google.com/assets/colab-badge.svg\" alt=\"Open In Colab\"/></a>"
      ]
    },
    {
      "cell_type": "markdown",
      "source": [
        "# recsys-python 第1章 評価履歴\n",
        "https://recsyslab.github.io/recsys-python/ja/chap01.html"
      ],
      "metadata": {
        "id": "P2EhiBDTTc5M"
      }
    },
    {
      "cell_type": "code",
      "execution_count": null,
      "metadata": {
        "id": "5lSyYJTmTYMZ"
      },
      "outputs": [],
      "source": [
        "import numpy as np"
      ]
    },
    {
      "cell_type": "markdown",
      "source": [
        "## 評価履歴"
      ],
      "metadata": {
        "id": "ohLX_jMUV3if"
      }
    },
    {
      "cell_type": "code",
      "source": [
        "Du = np.array(\n",
        "  [[ 5.,  3.,  1.],\n",
        "   [ 6.,  2.,  1.],\n",
        "   [ 4.,  1.,  1.],\n",
        "   [ 8.,  5., -1.],\n",
        "   [ 2.,  4., -1.],\n",
        "   [ 3.,  6., -1.],\n",
        "   [ 7.,  6., -1.],\n",
        "   [ 4.,  2., np.nan],\n",
        "   [ 5.,  1., np.nan],\n",
        "   [ 8.,  6., np.nan],\n",
        "   [ 3.,  4., np.nan],\n",
        "   [ 4.,  7., np.nan],\n",
        "   [ 4.,  4., np.nan]]\n",
        ")\n",
        "print('Du = \\n{}'.format(Du))"
      ],
      "metadata": {
        "colab": {
          "base_uri": "https://localhost:8080/"
        },
        "id": "cM0Ms799TmcK",
        "outputId": "7dd982b5-a5b2-4621-f38e-e10b5726f2e3"
      },
      "execution_count": null,
      "outputs": [
        {
          "output_type": "stream",
          "name": "stdout",
          "text": [
            "Du = \n",
            "[[ 5.  3.  1.]\n",
            " [ 6.  2.  1.]\n",
            " [ 4.  1.  1.]\n",
            " [ 8.  5. -1.]\n",
            " [ 2.  4. -1.]\n",
            " [ 3.  6. -1.]\n",
            " [ 7.  6. -1.]\n",
            " [ 4.  2. nan]\n",
            " [ 5.  1. nan]\n",
            " [ 8.  6. nan]\n",
            " [ 3.  4. nan]\n",
            " [ 4.  7. nan]\n",
            " [ 4.  4. nan]]\n"
          ]
        }
      ]
    },
    {
      "cell_type": "code",
      "source": [
        "print('Duの形状 = {}'.format(Du.shape))"
      ],
      "metadata": {
        "colab": {
          "base_uri": "https://localhost:8080/"
        },
        "id": "Tyw9mQS1WR-R",
        "outputId": "31f6e04c-571e-49c9-c3df-4ea74d3c22ad"
      },
      "execution_count": null,
      "outputs": [
        {
          "output_type": "stream",
          "name": "stdout",
          "text": [
            "Duの形状 = (13, 3)\n"
          ]
        }
      ]
    },
    {
      "cell_type": "code",
      "source": [
        "print('Duの行数 = {}'.format(Du.shape[0]))"
      ],
      "metadata": {
        "colab": {
          "base_uri": "https://localhost:8080/"
        },
        "id": "iW0zNNz5Wia5",
        "outputId": "c9df6c01-a385-424a-8712-d10fc6510f31"
      },
      "execution_count": null,
      "outputs": [
        {
          "output_type": "stream",
          "name": "stdout",
          "text": [
            "Duの行数 = 13\n"
          ]
        }
      ]
    },
    {
      "cell_type": "code",
      "source": [
        "print('Duの列数 = {}'.format(Du.shape[1]))"
      ],
      "metadata": {
        "colab": {
          "base_uri": "https://localhost:8080/"
        },
        "id": "0X4xprfVWuUY",
        "outputId": "f55dc1f1-afd3-433c-8c81-03f812b71c96"
      },
      "execution_count": null,
      "outputs": [
        {
          "output_type": "stream",
          "name": "stdout",
          "text": [
            "Duの列数 = 3\n"
          ]
        }
      ]
    },
    {
      "cell_type": "code",
      "source": [
        "print('Duの全要素数 = {}'.format(Du.size))"
      ],
      "metadata": {
        "colab": {
          "base_uri": "https://localhost:8080/"
        },
        "id": "lyUrWTlUW9Jn",
        "outputId": "a0e1f6b2-8496-42ae-9134-f41a20aa019c"
      },
      "execution_count": null,
      "outputs": [
        {
          "output_type": "stream",
          "name": "stdout",
          "text": [
            "Duの全要素数 = 39\n"
          ]
        }
      ]
    },
    {
      "cell_type": "markdown",
      "source": [
        "## アイテム"
      ],
      "metadata": {
        "id": "9Abd6YVwbya4"
      }
    },
    {
      "cell_type": "code",
      "source": [
        "I = np.arange(Du.shape[0])\n",
        "print('I = {}'.format(I))"
      ],
      "metadata": {
        "colab": {
          "base_uri": "https://localhost:8080/"
        },
        "id": "wx8LH2R_XF32",
        "outputId": "aa280c19-0d95-4e41-ed01-bdd9ddf1bac6"
      },
      "execution_count": null,
      "outputs": [
        {
          "output_type": "stream",
          "name": "stdout",
          "text": [
            "I = [ 0  1  2  3  4  5  6  7  8  9 10 11 12]\n"
          ]
        }
      ]
    },
    {
      "cell_type": "code",
      "source": [
        "x = Du[:, :2]\n",
        "print('x = \\n{}'.format(x))"
      ],
      "metadata": {
        "colab": {
          "base_uri": "https://localhost:8080/"
        },
        "id": "xv7g6RK2X0lt",
        "outputId": "18637684-ad47-4557-9880-99a2d4bff486"
      },
      "execution_count": null,
      "outputs": [
        {
          "output_type": "stream",
          "name": "stdout",
          "text": [
            "x = \n",
            "[[5. 3.]\n",
            " [6. 2.]\n",
            " [4. 1.]\n",
            " [8. 5.]\n",
            " [2. 4.]\n",
            " [3. 6.]\n",
            " [7. 6.]\n",
            " [4. 2.]\n",
            " [5. 1.]\n",
            " [8. 6.]\n",
            " [3. 4.]\n",
            " [4. 7.]\n",
            " [4. 4.]]\n"
          ]
        }
      ]
    },
    {
      "cell_type": "code",
      "source": [
        "i = 0\n",
        "print('x{} = {}'.format(i, x[i]))"
      ],
      "metadata": {
        "colab": {
          "base_uri": "https://localhost:8080/"
        },
        "id": "fzOVxyWpcBSF",
        "outputId": "e195e608-53ab-4e25-99d4-87adb3e3d149"
      },
      "execution_count": null,
      "outputs": [
        {
          "output_type": "stream",
          "name": "stdout",
          "text": [
            "x0 = [5. 3.]\n"
          ]
        }
      ]
    },
    {
      "cell_type": "code",
      "source": [
        "ru = Du[:, 2]\n",
        "print('ru = {}'.format(ru))"
      ],
      "metadata": {
        "colab": {
          "base_uri": "https://localhost:8080/"
        },
        "id": "EOO8O5kjcKU-",
        "outputId": "651f1160-ceec-46b0-d4a7-50446ae53efd"
      },
      "execution_count": null,
      "outputs": [
        {
          "output_type": "stream",
          "name": "stdout",
          "text": [
            "ru = [ 1.  1.  1. -1. -1. -1. -1. nan nan nan nan nan nan]\n"
          ]
        }
      ]
    },
    {
      "cell_type": "code",
      "source": [
        "print('ruの形状 = {}'.format(ru.shape))"
      ],
      "metadata": {
        "colab": {
          "base_uri": "https://localhost:8080/"
        },
        "id": "9CexY2rOcR--",
        "outputId": "00201368-bcf3-4cc0-d82f-ccf9760ac1b2"
      },
      "execution_count": null,
      "outputs": [
        {
          "output_type": "stream",
          "name": "stdout",
          "text": [
            "ruの形状 = (13,)\n"
          ]
        }
      ]
    },
    {
      "cell_type": "code",
      "source": [
        "print('ruの全要素数 = {}'.format(ru.size))"
      ],
      "metadata": {
        "colab": {
          "base_uri": "https://localhost:8080/"
        },
        "id": "o65f2UM9cZoU",
        "outputId": "d7488add-195f-4167-9e01-4c96560d136c"
      },
      "execution_count": null,
      "outputs": [
        {
          "output_type": "stream",
          "name": "stdout",
          "text": [
            "ruの全要素数 = 13\n"
          ]
        }
      ]
    },
    {
      "cell_type": "code",
      "source": [
        "i = 2\n",
        "j = 5\n",
        "print('ru{}からru{}までの評価値 = {}'.format(i, j-1, ru[i:j]))"
      ],
      "metadata": {
        "colab": {
          "base_uri": "https://localhost:8080/"
        },
        "id": "Ny3bh27sceuE",
        "outputId": "e973580a-8612-4c70-80bf-82e5359ce939"
      },
      "execution_count": null,
      "outputs": [
        {
          "output_type": "stream",
          "name": "stdout",
          "text": [
            "ru2からru4までの評価値 = [ 1. -1. -1.]\n"
          ]
        }
      ]
    },
    {
      "cell_type": "code",
      "source": [
        "print('ruの逆順 = {}'.format(ru[::-1]))"
      ],
      "metadata": {
        "colab": {
          "base_uri": "https://localhost:8080/"
        },
        "id": "GETys4zxcoMk",
        "outputId": "a498fb37-719a-41bc-acd1-8182775e147d"
      },
      "execution_count": null,
      "outputs": [
        {
          "output_type": "stream",
          "name": "stdout",
          "text": [
            "ruの逆順 = [nan nan nan nan nan nan -1. -1. -1. -1.  1.  1.  1.]\n"
          ]
        }
      ]
    },
    {
      "cell_type": "code",
      "source": [
        "i = 0\n",
        "print('ru{} = {}'.format(i, ru[i]))"
      ],
      "metadata": {
        "colab": {
          "base_uri": "https://localhost:8080/"
        },
        "id": "IabHHMYJct8S",
        "outputId": "6e193f9a-290e-4584-a660-a188dbc028c2"
      },
      "execution_count": null,
      "outputs": [
        {
          "output_type": "stream",
          "name": "stdout",
          "text": [
            "ru0 = 1.0\n"
          ]
        }
      ]
    },
    {
      "cell_type": "markdown",
      "source": [
        "## アイテム集合"
      ],
      "metadata": {
        "id": "depSziquc7Qt"
      }
    },
    {
      "cell_type": "code",
      "source": [
        "print('ユーザuが未評価 = {}'.format(np.isnan(ru)))"
      ],
      "metadata": {
        "colab": {
          "base_uri": "https://localhost:8080/"
        },
        "id": "FnYzomYVc4PB",
        "outputId": "6d127f09-7fbe-4108-b9c2-9e4c149ca8aa"
      },
      "execution_count": null,
      "outputs": [
        {
          "output_type": "stream",
          "name": "stdout",
          "text": [
            "ユーザuが未評価 = [False False False False False False False  True  True  True  True  True\n",
            "  True]\n"
          ]
        }
      ]
    },
    {
      "cell_type": "code",
      "source": [
        "print('ユーザuが評価済み = {}'.format(~np.isnan(ru)))"
      ],
      "metadata": {
        "colab": {
          "base_uri": "https://localhost:8080/"
        },
        "id": "E1MjEE7-dcpC",
        "outputId": "71dffe84-0956-498e-9a9f-52135f8c324b"
      },
      "execution_count": null,
      "outputs": [
        {
          "output_type": "stream",
          "name": "stdout",
          "text": [
            "ユーザuが評価済み = [ True  True  True  True  True  True  True False False False False False\n",
            " False]\n"
          ]
        }
      ]
    },
    {
      "cell_type": "code",
      "source": [
        "Iu = I[~np.isnan(ru)]\n",
        "print('Iu = {}'.format(Iu))"
      ],
      "metadata": {
        "colab": {
          "base_uri": "https://localhost:8080/"
        },
        "id": "Y9_eHVEUdmcD",
        "outputId": "ac5240f4-3a92-4220-b520-e9ad0d8f27e4"
      },
      "execution_count": null,
      "outputs": [
        {
          "output_type": "stream",
          "name": "stdout",
          "text": [
            "Iu = [0 1 2 3 4 5 6]\n"
          ]
        }
      ]
    },
    {
      "cell_type": "code",
      "source": [
        "Iup = I[ru == 1.0]\n",
        "print('Iu+ = {}'.format(Iup))"
      ],
      "metadata": {
        "colab": {
          "base_uri": "https://localhost:8080/"
        },
        "id": "lZLS7qltd7fC",
        "outputId": "742f0aee-901d-436e-b76e-3b7af8a22a19"
      },
      "execution_count": null,
      "outputs": [
        {
          "output_type": "stream",
          "name": "stdout",
          "text": [
            "Iu+ = [0 1 2]\n"
          ]
        }
      ]
    },
    {
      "cell_type": "code",
      "source": [
        "Iun = I[ru == -1.0]\n",
        "print('Iu- = {}'.format(Iun))"
      ],
      "metadata": {
        "colab": {
          "base_uri": "https://localhost:8080/"
        },
        "id": "R4Uv37IbeI2c",
        "outputId": "ed0e31af-9580-4e70-a5b8-73cc51e4e780"
      },
      "execution_count": null,
      "outputs": [
        {
          "output_type": "stream",
          "name": "stdout",
          "text": [
            "Iu- = [3 4 5 6]\n"
          ]
        }
      ]
    },
    {
      "cell_type": "code",
      "source": [
        "Iu_not = I[np.isnan(ru)]\n",
        "print('Iu_not = {}'.format(Iu_not))"
      ],
      "metadata": {
        "colab": {
          "base_uri": "https://localhost:8080/"
        },
        "id": "A4aA6qvveQdu",
        "outputId": "ad11ad9f-5690-4bab-a445-ad2b1ca21ba9"
      },
      "execution_count": null,
      "outputs": [
        {
          "output_type": "stream",
          "name": "stdout",
          "text": [
            "Iu_not = [ 7  8  9 10 11 12]\n"
          ]
        }
      ]
    },
    {
      "cell_type": "markdown",
      "source": [
        "## 訓練データと予測対象データ"
      ],
      "metadata": {
        "id": "Dhig0fQAebZz"
      }
    },
    {
      "cell_type": "code",
      "source": [
        "DuL = Du[Iu]\n",
        "print('DuL = \\n{}'.format(DuL))"
      ],
      "metadata": {
        "colab": {
          "base_uri": "https://localhost:8080/"
        },
        "id": "AfrFWSXXeX4a",
        "outputId": "803eae43-1af2-4552-c2c8-ff2241cb30dd"
      },
      "execution_count": null,
      "outputs": [
        {
          "output_type": "stream",
          "name": "stdout",
          "text": [
            "DuL = \n",
            "[[ 5.  3.  1.]\n",
            " [ 6.  2.  1.]\n",
            " [ 4.  1.  1.]\n",
            " [ 8.  5. -1.]\n",
            " [ 2.  4. -1.]\n",
            " [ 3.  6. -1.]\n",
            " [ 7.  6. -1.]]\n"
          ]
        }
      ]
    },
    {
      "cell_type": "code",
      "source": [
        "print('|DuL| = {}'.format(DuL.shape[0]))"
      ],
      "metadata": {
        "colab": {
          "base_uri": "https://localhost:8080/"
        },
        "id": "yNjv5Rjre3FK",
        "outputId": "b3b416a4-0693-4ced-a681-63a66a1586d8"
      },
      "execution_count": null,
      "outputs": [
        {
          "output_type": "stream",
          "name": "stdout",
          "text": [
            "|DuL| = 7\n"
          ]
        }
      ]
    },
    {
      "cell_type": "code",
      "source": [
        "print('|DuL+| = {}'.format(DuL[DuL[:, 2] == 1.0].shape[0]))"
      ],
      "metadata": {
        "colab": {
          "base_uri": "https://localhost:8080/"
        },
        "id": "2r2zodGFe-YK",
        "outputId": "d99d777b-3313-49fc-a7f5-fc8121aa117b"
      },
      "execution_count": null,
      "outputs": [
        {
          "output_type": "stream",
          "name": "stdout",
          "text": [
            "|DuL+| = 3\n"
          ]
        }
      ]
    },
    {
      "cell_type": "code",
      "source": [
        "print('|DuL-| = {}'.format(DuL[DuL[:, 2] == -1.0].shape[0]))"
      ],
      "metadata": {
        "colab": {
          "base_uri": "https://localhost:8080/"
        },
        "id": "HYLip8syfWgh",
        "outputId": "7230cd45-7b4a-4eba-8988-a6d6bf7b9b55"
      },
      "execution_count": null,
      "outputs": [
        {
          "output_type": "stream",
          "name": "stdout",
          "text": [
            "|DuL-| = 4\n"
          ]
        }
      ]
    },
    {
      "cell_type": "code",
      "source": [
        "DuU = Du[Iu_not]\n",
        "print('DuU = \\n{}'.format(DuU))"
      ],
      "metadata": {
        "colab": {
          "base_uri": "https://localhost:8080/"
        },
        "id": "jndrdHTSfcds",
        "outputId": "8ef1a017-1c3f-4636-8ae5-c88eb70613f3"
      },
      "execution_count": null,
      "outputs": [
        {
          "output_type": "stream",
          "name": "stdout",
          "text": [
            "DuU = \n",
            "[[ 4.  2. nan]\n",
            " [ 5.  1. nan]\n",
            " [ 8.  6. nan]\n",
            " [ 3.  4. nan]\n",
            " [ 4.  7. nan]\n",
            " [ 4.  4. nan]]\n"
          ]
        }
      ]
    },
    {
      "cell_type": "code",
      "source": [
        "print('|DuU| = {}'.format(DuU.shape[0]))"
      ],
      "metadata": {
        "colab": {
          "base_uri": "https://localhost:8080/"
        },
        "id": "y_yqomo9fmn_",
        "outputId": "e2f4213d-bcc3-4663-e4d7-bed790a52fa1"
      },
      "execution_count": null,
      "outputs": [
        {
          "output_type": "stream",
          "name": "stdout",
          "text": [
            "|DuU| = 6\n"
          ]
        }
      ]
    }
  ]
}